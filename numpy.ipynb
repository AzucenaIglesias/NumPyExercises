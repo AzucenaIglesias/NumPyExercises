{
  "nbformat": 4,
  "nbformat_minor": 0,
  "metadata": {
    "colab": {
      "provenance": [],
      "authorship_tag": "ABX9TyPpN/O+3klCyd+lJLOPsb17",
      "include_colab_link": true
    },
    "kernelspec": {
      "name": "python3",
      "display_name": "Python 3"
    },
    "language_info": {
      "name": "python"
    }
  },
  "cells": [
    {
      "cell_type": "markdown",
      "metadata": {
        "id": "view-in-github",
        "colab_type": "text"
      },
      "source": [
        "<a href=\"https://colab.research.google.com/github/AzucenaIglesias/NumPyExercises/blob/main/numpy.ipynb\" target=\"_parent\"><img src=\"https://colab.research.google.com/assets/colab-badge.svg\" alt=\"Open In Colab\"/></a>"
      ]
    },
    {
      "cell_type": "code",
      "execution_count": null,
      "metadata": {
        "id": "3StXsLYBp43u"
      },
      "outputs": [],
      "source": []
    },
    {
      "cell_type": "markdown",
      "source": [],
      "metadata": {
        "id": "1SpjYlVHqAme"
      }
    },
    {
      "cell_type": "code",
      "source": [
        "###First steps with numpy###\n",
        "\n",
        "import numpy as np\n",
        "\n",
        "#Create a NumPy array- One Dimensional Array\n",
        "\n",
        "one_dimensional_array = np.array([1.2, 2.4, 3.5, 4.7, 6.1, 7.2, 8.3, 9.5])\n",
        "print(one_dimensional_array)\n",
        "\n",
        "#two-dimensional array- Specify an extra layer of square brackets\n",
        "\n",
        "two_dimensional_array = np.array([[6, 5], [11, 7], [4, 8]])\n",
        "print(two_dimensional_array)\n",
        "\n",
        "# Arrays with sequences of numbers\n",
        "sequence_of_integers = np.arange(6, 15)\n",
        "print(sequence_of_integers)\n",
        "\n",
        "# Arrays with random numbers\n",
        "\n",
        "random_integers_between_50_and_100 = np.random.randint(low=50, high=101, size=(6,))\n",
        "print(random_integers_between_50_and_100)\n",
        "\n",
        "# Random floating-point values\n",
        "random_floats_between_0_and_1 = np.random.random((6,))\n",
        "print(random_floats_between_0_and_1)\n",
        "\n",
        "## Mathematical Operations on NumPy\n",
        "random_floats_between_2_and_3 = random_floats_between_0_and_1 + 2.0\n",
        "print(random_floats_between_2_and_3)\n",
        "\n",
        "random_integers_between_150_and_300 = random_integers_between_50_and_100 * 3\n",
        "print(random_integers_between_150_and_300)\n",
        "\n",
        "#Create a Linear Dataset\n",
        "\n",
        "feature= np.arange(6,21)\n",
        "print(feature)\n",
        "label=(feature*3) + 4\n",
        "print(label)\n",
        "\n",
        "#Add Noise to a Dataset\n",
        "\n",
        "noise = (np.random.random([15]) * 4) - 2\n",
        "print(noise)\n",
        "label = label + noise\n",
        "print(label)\n",
        "\n"
      ],
      "metadata": {
        "colab": {
          "base_uri": "https://localhost:8080/"
        },
        "id": "skUN7cdCp83d",
        "outputId": "20423e9c-fa7c-4204-b2c2-54e3e0e54f67"
      },
      "execution_count": null,
      "outputs": [
        {
          "output_type": "stream",
          "name": "stdout",
          "text": [
            "[1.2 2.4 3.5 4.7 6.1 7.2 8.3 9.5]\n",
            "[[ 6  5]\n",
            " [11  7]\n",
            " [ 4  8]]\n",
            "[ 6  7  8  9 10 11 12 13 14]\n",
            "[68 51 98 59 78 82]\n",
            "[0.09346584 0.57283272 0.02595751 0.87609305 0.92940172 0.9928496 ]\n",
            "[2.09346584 2.57283272 2.02595751 2.87609305 2.92940172 2.9928496 ]\n",
            "[204 153 294 177 234 246]\n",
            "[ 6  7  8  9 10 11 12 13 14 15 16 17 18 19 20]\n",
            "[22 25 28 31 34 37 40 43 46 49 52 55 58 61 64]\n",
            "[ 0.05560156 -1.92970289 -1.39476367  1.68523774  0.86634844  0.26601106\n",
            "  1.43862946 -1.39477833  0.07454852  1.50226478 -0.30623597  0.20555835\n",
            " -0.70296757 -0.32727907 -1.73676448]\n",
            "[22.05560156 23.07029711 26.60523633 32.68523774 34.86634844 37.26601106\n",
            " 41.43862946 41.60522167 46.07454852 50.50226478 51.69376403 55.20555835\n",
            " 57.29703243 60.67272093 62.26323552]\n"
          ]
        }
      ]
    }
  ]
}